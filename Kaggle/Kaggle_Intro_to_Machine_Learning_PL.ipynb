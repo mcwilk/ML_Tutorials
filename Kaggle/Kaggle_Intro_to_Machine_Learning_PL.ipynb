{
 "cells": [
  {
   "cell_type": "markdown",
   "metadata": {},
   "source": [
    "# Intro to Machine Learning\n",
    "\n",
    "Poniższy notebook sporządzono na podstawie kursu dostępnego pod adresem https://www.kaggle.com/learn/intro-to-machine-learning. \n",
    "\n",
    "Tutorial pokazuje krok po kroku jak budować, trenować i sprawdzać jakość modeli opartych o algorytm DRZEW DECYZYJNYCH za pomocą biblioteki Scikit-Learn. Porusza on również temat LASÓW LOSOWYCH.\n",
    "\n",
    "Agenda:\n",
    "1. **How Model Works**\n",
    "2. **Basic Data Exploration**\n",
    "3. **First ML Model**\n",
    "4. **Model Validation**\n",
    "5. **Underfitting and Overfitting**\n",
    "6. **Random Forests**"
   ]
  },
  {
   "cell_type": "markdown",
   "metadata": {},
   "source": [
    "## 1) How Model Works\n",
    "\n",
    "Teoria na temat Drzew Decyzyjnych."
   ]
  },
  {
   "cell_type": "markdown",
   "metadata": {},
   "source": [
    "## 2) Basic Data Exploration\n",
    "Model wytrenujemy na podstawie zbioru dotyczącego cen domów w Melbourne."
   ]
  },
  {
   "cell_type": "markdown",
   "metadata": {},
   "source": [
    "#### Import modułów:"
   ]
  },
  {
   "cell_type": "code",
   "execution_count": 1,
   "metadata": {},
   "outputs": [],
   "source": [
    "import pandas as pd"
   ]
  },
  {
   "cell_type": "markdown",
   "metadata": {},
   "source": [
    "#### Wczytanie zbioru danych oraz wyświetlenie jego najważniejszych charakterystyk"
   ]
  },
  {
   "cell_type": "code",
   "execution_count": 2,
   "metadata": {},
   "outputs": [],
   "source": [
    "melbourne_data = pd.read_csv('./melb_data.csv')"
   ]
  },
  {
   "cell_type": "code",
   "execution_count": 3,
   "metadata": {},
   "outputs": [
    {
     "data": {
      "text/html": [
       "<div>\n",
       "<style scoped>\n",
       "    .dataframe tbody tr th:only-of-type {\n",
       "        vertical-align: middle;\n",
       "    }\n",
       "\n",
       "    .dataframe tbody tr th {\n",
       "        vertical-align: top;\n",
       "    }\n",
       "\n",
       "    .dataframe thead th {\n",
       "        text-align: right;\n",
       "    }\n",
       "</style>\n",
       "<table border=\"1\" class=\"dataframe\">\n",
       "  <thead>\n",
       "    <tr style=\"text-align: right;\">\n",
       "      <th></th>\n",
       "      <th>Rooms</th>\n",
       "      <th>Price</th>\n",
       "      <th>Distance</th>\n",
       "      <th>Postcode</th>\n",
       "      <th>Bedroom2</th>\n",
       "      <th>Bathroom</th>\n",
       "      <th>Car</th>\n",
       "      <th>Landsize</th>\n",
       "      <th>BuildingArea</th>\n",
       "      <th>YearBuilt</th>\n",
       "      <th>Lattitude</th>\n",
       "      <th>Longtitude</th>\n",
       "      <th>Propertycount</th>\n",
       "    </tr>\n",
       "  </thead>\n",
       "  <tbody>\n",
       "    <tr>\n",
       "      <td>count</td>\n",
       "      <td>13580.000000</td>\n",
       "      <td>1.358000e+04</td>\n",
       "      <td>13580.000000</td>\n",
       "      <td>13580.000000</td>\n",
       "      <td>13580.000000</td>\n",
       "      <td>13580.000000</td>\n",
       "      <td>13518.000000</td>\n",
       "      <td>13580.000000</td>\n",
       "      <td>7130.000000</td>\n",
       "      <td>8205.000000</td>\n",
       "      <td>13580.000000</td>\n",
       "      <td>13580.000000</td>\n",
       "      <td>13580.000000</td>\n",
       "    </tr>\n",
       "    <tr>\n",
       "      <td>mean</td>\n",
       "      <td>2.937997</td>\n",
       "      <td>1.075684e+06</td>\n",
       "      <td>10.137776</td>\n",
       "      <td>3105.301915</td>\n",
       "      <td>2.914728</td>\n",
       "      <td>1.534242</td>\n",
       "      <td>1.610075</td>\n",
       "      <td>558.416127</td>\n",
       "      <td>151.967650</td>\n",
       "      <td>1964.684217</td>\n",
       "      <td>-37.809203</td>\n",
       "      <td>144.995216</td>\n",
       "      <td>7454.417378</td>\n",
       "    </tr>\n",
       "    <tr>\n",
       "      <td>std</td>\n",
       "      <td>0.955748</td>\n",
       "      <td>6.393107e+05</td>\n",
       "      <td>5.868725</td>\n",
       "      <td>90.676964</td>\n",
       "      <td>0.965921</td>\n",
       "      <td>0.691712</td>\n",
       "      <td>0.962634</td>\n",
       "      <td>3990.669241</td>\n",
       "      <td>541.014538</td>\n",
       "      <td>37.273762</td>\n",
       "      <td>0.079260</td>\n",
       "      <td>0.103916</td>\n",
       "      <td>4378.581772</td>\n",
       "    </tr>\n",
       "    <tr>\n",
       "      <td>min</td>\n",
       "      <td>1.000000</td>\n",
       "      <td>8.500000e+04</td>\n",
       "      <td>0.000000</td>\n",
       "      <td>3000.000000</td>\n",
       "      <td>0.000000</td>\n",
       "      <td>0.000000</td>\n",
       "      <td>0.000000</td>\n",
       "      <td>0.000000</td>\n",
       "      <td>0.000000</td>\n",
       "      <td>1196.000000</td>\n",
       "      <td>-38.182550</td>\n",
       "      <td>144.431810</td>\n",
       "      <td>249.000000</td>\n",
       "    </tr>\n",
       "    <tr>\n",
       "      <td>25%</td>\n",
       "      <td>2.000000</td>\n",
       "      <td>6.500000e+05</td>\n",
       "      <td>6.100000</td>\n",
       "      <td>3044.000000</td>\n",
       "      <td>2.000000</td>\n",
       "      <td>1.000000</td>\n",
       "      <td>1.000000</td>\n",
       "      <td>177.000000</td>\n",
       "      <td>93.000000</td>\n",
       "      <td>1940.000000</td>\n",
       "      <td>-37.856822</td>\n",
       "      <td>144.929600</td>\n",
       "      <td>4380.000000</td>\n",
       "    </tr>\n",
       "    <tr>\n",
       "      <td>50%</td>\n",
       "      <td>3.000000</td>\n",
       "      <td>9.030000e+05</td>\n",
       "      <td>9.200000</td>\n",
       "      <td>3084.000000</td>\n",
       "      <td>3.000000</td>\n",
       "      <td>1.000000</td>\n",
       "      <td>2.000000</td>\n",
       "      <td>440.000000</td>\n",
       "      <td>126.000000</td>\n",
       "      <td>1970.000000</td>\n",
       "      <td>-37.802355</td>\n",
       "      <td>145.000100</td>\n",
       "      <td>6555.000000</td>\n",
       "    </tr>\n",
       "    <tr>\n",
       "      <td>75%</td>\n",
       "      <td>3.000000</td>\n",
       "      <td>1.330000e+06</td>\n",
       "      <td>13.000000</td>\n",
       "      <td>3148.000000</td>\n",
       "      <td>3.000000</td>\n",
       "      <td>2.000000</td>\n",
       "      <td>2.000000</td>\n",
       "      <td>651.000000</td>\n",
       "      <td>174.000000</td>\n",
       "      <td>1999.000000</td>\n",
       "      <td>-37.756400</td>\n",
       "      <td>145.058305</td>\n",
       "      <td>10331.000000</td>\n",
       "    </tr>\n",
       "    <tr>\n",
       "      <td>max</td>\n",
       "      <td>10.000000</td>\n",
       "      <td>9.000000e+06</td>\n",
       "      <td>48.100000</td>\n",
       "      <td>3977.000000</td>\n",
       "      <td>20.000000</td>\n",
       "      <td>8.000000</td>\n",
       "      <td>10.000000</td>\n",
       "      <td>433014.000000</td>\n",
       "      <td>44515.000000</td>\n",
       "      <td>2018.000000</td>\n",
       "      <td>-37.408530</td>\n",
       "      <td>145.526350</td>\n",
       "      <td>21650.000000</td>\n",
       "    </tr>\n",
       "  </tbody>\n",
       "</table>\n",
       "</div>"
      ],
      "text/plain": [
       "              Rooms         Price      Distance      Postcode      Bedroom2  \\\n",
       "count  13580.000000  1.358000e+04  13580.000000  13580.000000  13580.000000   \n",
       "mean       2.937997  1.075684e+06     10.137776   3105.301915      2.914728   \n",
       "std        0.955748  6.393107e+05      5.868725     90.676964      0.965921   \n",
       "min        1.000000  8.500000e+04      0.000000   3000.000000      0.000000   \n",
       "25%        2.000000  6.500000e+05      6.100000   3044.000000      2.000000   \n",
       "50%        3.000000  9.030000e+05      9.200000   3084.000000      3.000000   \n",
       "75%        3.000000  1.330000e+06     13.000000   3148.000000      3.000000   \n",
       "max       10.000000  9.000000e+06     48.100000   3977.000000     20.000000   \n",
       "\n",
       "           Bathroom           Car       Landsize  BuildingArea    YearBuilt  \\\n",
       "count  13580.000000  13518.000000   13580.000000   7130.000000  8205.000000   \n",
       "mean       1.534242      1.610075     558.416127    151.967650  1964.684217   \n",
       "std        0.691712      0.962634    3990.669241    541.014538    37.273762   \n",
       "min        0.000000      0.000000       0.000000      0.000000  1196.000000   \n",
       "25%        1.000000      1.000000     177.000000     93.000000  1940.000000   \n",
       "50%        1.000000      2.000000     440.000000    126.000000  1970.000000   \n",
       "75%        2.000000      2.000000     651.000000    174.000000  1999.000000   \n",
       "max        8.000000     10.000000  433014.000000  44515.000000  2018.000000   \n",
       "\n",
       "          Lattitude    Longtitude  Propertycount  \n",
       "count  13580.000000  13580.000000   13580.000000  \n",
       "mean     -37.809203    144.995216    7454.417378  \n",
       "std        0.079260      0.103916    4378.581772  \n",
       "min      -38.182550    144.431810     249.000000  \n",
       "25%      -37.856822    144.929600    4380.000000  \n",
       "50%      -37.802355    145.000100    6555.000000  \n",
       "75%      -37.756400    145.058305   10331.000000  \n",
       "max      -37.408530    145.526350   21650.000000  "
      ]
     },
     "execution_count": 3,
     "metadata": {},
     "output_type": "execute_result"
    }
   ],
   "source": [
    "melbourne_data.describe()"
   ]
  },
  {
   "cell_type": "markdown",
   "metadata": {},
   "source": [
    "## 3) First ML Model\n",
    "#### Obróbka danych dla modelu:"
   ]
  },
  {
   "cell_type": "markdown",
   "metadata": {},
   "source": [
    "Usunięcie wszystkich wierszy zawierających wartości NA:"
   ]
  },
  {
   "cell_type": "code",
   "execution_count": 4,
   "metadata": {},
   "outputs": [
    {
     "data": {
      "text/html": [
       "<div>\n",
       "<style scoped>\n",
       "    .dataframe tbody tr th:only-of-type {\n",
       "        vertical-align: middle;\n",
       "    }\n",
       "\n",
       "    .dataframe tbody tr th {\n",
       "        vertical-align: top;\n",
       "    }\n",
       "\n",
       "    .dataframe thead th {\n",
       "        text-align: right;\n",
       "    }\n",
       "</style>\n",
       "<table border=\"1\" class=\"dataframe\">\n",
       "  <thead>\n",
       "    <tr style=\"text-align: right;\">\n",
       "      <th></th>\n",
       "      <th>Rooms</th>\n",
       "      <th>Price</th>\n",
       "      <th>Distance</th>\n",
       "      <th>Postcode</th>\n",
       "      <th>Bedroom2</th>\n",
       "      <th>Bathroom</th>\n",
       "      <th>Car</th>\n",
       "      <th>Landsize</th>\n",
       "      <th>BuildingArea</th>\n",
       "      <th>YearBuilt</th>\n",
       "      <th>Lattitude</th>\n",
       "      <th>Longtitude</th>\n",
       "      <th>Propertycount</th>\n",
       "    </tr>\n",
       "  </thead>\n",
       "  <tbody>\n",
       "    <tr>\n",
       "      <td>count</td>\n",
       "      <td>6196.000000</td>\n",
       "      <td>6.196000e+03</td>\n",
       "      <td>6196.000000</td>\n",
       "      <td>6196.000000</td>\n",
       "      <td>6196.000000</td>\n",
       "      <td>6196.000000</td>\n",
       "      <td>6196.000000</td>\n",
       "      <td>6196.000000</td>\n",
       "      <td>6196.000000</td>\n",
       "      <td>6196.000000</td>\n",
       "      <td>6196.000000</td>\n",
       "      <td>6196.000000</td>\n",
       "      <td>6196.000000</td>\n",
       "    </tr>\n",
       "    <tr>\n",
       "      <td>mean</td>\n",
       "      <td>2.931407</td>\n",
       "      <td>1.068828e+06</td>\n",
       "      <td>9.751097</td>\n",
       "      <td>3101.947708</td>\n",
       "      <td>2.902034</td>\n",
       "      <td>1.576340</td>\n",
       "      <td>1.573596</td>\n",
       "      <td>471.006940</td>\n",
       "      <td>141.568645</td>\n",
       "      <td>1964.081988</td>\n",
       "      <td>-37.807904</td>\n",
       "      <td>144.990201</td>\n",
       "      <td>7435.489509</td>\n",
       "    </tr>\n",
       "    <tr>\n",
       "      <td>std</td>\n",
       "      <td>0.971079</td>\n",
       "      <td>6.751564e+05</td>\n",
       "      <td>5.612065</td>\n",
       "      <td>86.421604</td>\n",
       "      <td>0.970055</td>\n",
       "      <td>0.711362</td>\n",
       "      <td>0.929947</td>\n",
       "      <td>897.449881</td>\n",
       "      <td>90.834824</td>\n",
       "      <td>38.105673</td>\n",
       "      <td>0.075850</td>\n",
       "      <td>0.099165</td>\n",
       "      <td>4337.698917</td>\n",
       "    </tr>\n",
       "    <tr>\n",
       "      <td>min</td>\n",
       "      <td>1.000000</td>\n",
       "      <td>1.310000e+05</td>\n",
       "      <td>0.000000</td>\n",
       "      <td>3000.000000</td>\n",
       "      <td>0.000000</td>\n",
       "      <td>1.000000</td>\n",
       "      <td>0.000000</td>\n",
       "      <td>0.000000</td>\n",
       "      <td>0.000000</td>\n",
       "      <td>1196.000000</td>\n",
       "      <td>-38.164920</td>\n",
       "      <td>144.542370</td>\n",
       "      <td>389.000000</td>\n",
       "    </tr>\n",
       "    <tr>\n",
       "      <td>25%</td>\n",
       "      <td>2.000000</td>\n",
       "      <td>6.200000e+05</td>\n",
       "      <td>5.900000</td>\n",
       "      <td>3044.000000</td>\n",
       "      <td>2.000000</td>\n",
       "      <td>1.000000</td>\n",
       "      <td>1.000000</td>\n",
       "      <td>152.000000</td>\n",
       "      <td>91.000000</td>\n",
       "      <td>1940.000000</td>\n",
       "      <td>-37.855438</td>\n",
       "      <td>144.926198</td>\n",
       "      <td>4383.750000</td>\n",
       "    </tr>\n",
       "    <tr>\n",
       "      <td>50%</td>\n",
       "      <td>3.000000</td>\n",
       "      <td>8.800000e+05</td>\n",
       "      <td>9.000000</td>\n",
       "      <td>3081.000000</td>\n",
       "      <td>3.000000</td>\n",
       "      <td>1.000000</td>\n",
       "      <td>1.000000</td>\n",
       "      <td>373.000000</td>\n",
       "      <td>124.000000</td>\n",
       "      <td>1970.000000</td>\n",
       "      <td>-37.802250</td>\n",
       "      <td>144.995800</td>\n",
       "      <td>6567.000000</td>\n",
       "    </tr>\n",
       "    <tr>\n",
       "      <td>75%</td>\n",
       "      <td>4.000000</td>\n",
       "      <td>1.325000e+06</td>\n",
       "      <td>12.400000</td>\n",
       "      <td>3147.000000</td>\n",
       "      <td>3.000000</td>\n",
       "      <td>2.000000</td>\n",
       "      <td>2.000000</td>\n",
       "      <td>628.000000</td>\n",
       "      <td>170.000000</td>\n",
       "      <td>2000.000000</td>\n",
       "      <td>-37.758200</td>\n",
       "      <td>145.052700</td>\n",
       "      <td>10175.000000</td>\n",
       "    </tr>\n",
       "    <tr>\n",
       "      <td>max</td>\n",
       "      <td>8.000000</td>\n",
       "      <td>9.000000e+06</td>\n",
       "      <td>47.400000</td>\n",
       "      <td>3977.000000</td>\n",
       "      <td>9.000000</td>\n",
       "      <td>8.000000</td>\n",
       "      <td>10.000000</td>\n",
       "      <td>37000.000000</td>\n",
       "      <td>3112.000000</td>\n",
       "      <td>2018.000000</td>\n",
       "      <td>-37.457090</td>\n",
       "      <td>145.526350</td>\n",
       "      <td>21650.000000</td>\n",
       "    </tr>\n",
       "  </tbody>\n",
       "</table>\n",
       "</div>"
      ],
      "text/plain": [
       "             Rooms         Price     Distance     Postcode     Bedroom2  \\\n",
       "count  6196.000000  6.196000e+03  6196.000000  6196.000000  6196.000000   \n",
       "mean      2.931407  1.068828e+06     9.751097  3101.947708     2.902034   \n",
       "std       0.971079  6.751564e+05     5.612065    86.421604     0.970055   \n",
       "min       1.000000  1.310000e+05     0.000000  3000.000000     0.000000   \n",
       "25%       2.000000  6.200000e+05     5.900000  3044.000000     2.000000   \n",
       "50%       3.000000  8.800000e+05     9.000000  3081.000000     3.000000   \n",
       "75%       4.000000  1.325000e+06    12.400000  3147.000000     3.000000   \n",
       "max       8.000000  9.000000e+06    47.400000  3977.000000     9.000000   \n",
       "\n",
       "          Bathroom          Car      Landsize  BuildingArea    YearBuilt  \\\n",
       "count  6196.000000  6196.000000   6196.000000   6196.000000  6196.000000   \n",
       "mean      1.576340     1.573596    471.006940    141.568645  1964.081988   \n",
       "std       0.711362     0.929947    897.449881     90.834824    38.105673   \n",
       "min       1.000000     0.000000      0.000000      0.000000  1196.000000   \n",
       "25%       1.000000     1.000000    152.000000     91.000000  1940.000000   \n",
       "50%       1.000000     1.000000    373.000000    124.000000  1970.000000   \n",
       "75%       2.000000     2.000000    628.000000    170.000000  2000.000000   \n",
       "max       8.000000    10.000000  37000.000000   3112.000000  2018.000000   \n",
       "\n",
       "         Lattitude   Longtitude  Propertycount  \n",
       "count  6196.000000  6196.000000    6196.000000  \n",
       "mean    -37.807904   144.990201    7435.489509  \n",
       "std       0.075850     0.099165    4337.698917  \n",
       "min     -38.164920   144.542370     389.000000  \n",
       "25%     -37.855438   144.926198    4383.750000  \n",
       "50%     -37.802250   144.995800    6567.000000  \n",
       "75%     -37.758200   145.052700   10175.000000  \n",
       "max     -37.457090   145.526350   21650.000000  "
      ]
     },
     "execution_count": 4,
     "metadata": {},
     "output_type": "execute_result"
    }
   ],
   "source": [
    "melbourne_data = melbourne_data.dropna(axis=0)\n",
    "melbourne_data.describe()"
   ]
  },
  {
   "cell_type": "markdown",
   "metadata": {},
   "source": [
    "#### Określenie zmiennej przewidywanej:"
   ]
  },
  {
   "cell_type": "markdown",
   "metadata": {},
   "source": [
    "Według konwencji zmienna przewidywana jest oznaczana jako \"y\". W naszym przypadku będzie to cena (kolumna Price)."
   ]
  },
  {
   "cell_type": "code",
   "execution_count": 5,
   "metadata": {},
   "outputs": [],
   "source": [
    "y = melbourne_data['Price']"
   ]
  },
  {
   "cell_type": "markdown",
   "metadata": {},
   "source": [
    "#### Wybór cech dla modelu (kolumn na podstawie, których będziemy uczyć model):"
   ]
  },
  {
   "cell_type": "code",
   "execution_count": 6,
   "metadata": {},
   "outputs": [],
   "source": [
    "melbourne_features = ['Rooms', 'Bathroom', 'Landsize', 'Lattitude', 'Longtitude']"
   ]
  },
  {
   "cell_type": "markdown",
   "metadata": {},
   "source": [
    "Według konwencji cechy (zmienne przewidujące) są oznaczane jako \"X\"."
   ]
  },
  {
   "cell_type": "code",
   "execution_count": 7,
   "metadata": {},
   "outputs": [
    {
     "data": {
      "text/html": [
       "<div>\n",
       "<style scoped>\n",
       "    .dataframe tbody tr th:only-of-type {\n",
       "        vertical-align: middle;\n",
       "    }\n",
       "\n",
       "    .dataframe tbody tr th {\n",
       "        vertical-align: top;\n",
       "    }\n",
       "\n",
       "    .dataframe thead th {\n",
       "        text-align: right;\n",
       "    }\n",
       "</style>\n",
       "<table border=\"1\" class=\"dataframe\">\n",
       "  <thead>\n",
       "    <tr style=\"text-align: right;\">\n",
       "      <th></th>\n",
       "      <th>Rooms</th>\n",
       "      <th>Bathroom</th>\n",
       "      <th>Landsize</th>\n",
       "      <th>Lattitude</th>\n",
       "      <th>Longtitude</th>\n",
       "    </tr>\n",
       "  </thead>\n",
       "  <tbody>\n",
       "    <tr>\n",
       "      <td>1</td>\n",
       "      <td>2</td>\n",
       "      <td>1.0</td>\n",
       "      <td>156.0</td>\n",
       "      <td>-37.8079</td>\n",
       "      <td>144.9934</td>\n",
       "    </tr>\n",
       "    <tr>\n",
       "      <td>2</td>\n",
       "      <td>3</td>\n",
       "      <td>2.0</td>\n",
       "      <td>134.0</td>\n",
       "      <td>-37.8093</td>\n",
       "      <td>144.9944</td>\n",
       "    </tr>\n",
       "    <tr>\n",
       "      <td>4</td>\n",
       "      <td>4</td>\n",
       "      <td>1.0</td>\n",
       "      <td>120.0</td>\n",
       "      <td>-37.8072</td>\n",
       "      <td>144.9941</td>\n",
       "    </tr>\n",
       "    <tr>\n",
       "      <td>6</td>\n",
       "      <td>3</td>\n",
       "      <td>2.0</td>\n",
       "      <td>245.0</td>\n",
       "      <td>-37.8024</td>\n",
       "      <td>144.9993</td>\n",
       "    </tr>\n",
       "    <tr>\n",
       "      <td>7</td>\n",
       "      <td>2</td>\n",
       "      <td>1.0</td>\n",
       "      <td>256.0</td>\n",
       "      <td>-37.8060</td>\n",
       "      <td>144.9954</td>\n",
       "    </tr>\n",
       "  </tbody>\n",
       "</table>\n",
       "</div>"
      ],
      "text/plain": [
       "   Rooms  Bathroom  Landsize  Lattitude  Longtitude\n",
       "1      2       1.0     156.0   -37.8079    144.9934\n",
       "2      3       2.0     134.0   -37.8093    144.9944\n",
       "4      4       1.0     120.0   -37.8072    144.9941\n",
       "6      3       2.0     245.0   -37.8024    144.9993\n",
       "7      2       1.0     256.0   -37.8060    144.9954"
      ]
     },
     "execution_count": 7,
     "metadata": {},
     "output_type": "execute_result"
    }
   ],
   "source": [
    "X = melbourne_data[melbourne_features]\n",
    "X.head()"
   ]
  },
  {
   "cell_type": "code",
   "execution_count": 8,
   "metadata": {},
   "outputs": [
    {
     "data": {
      "text/html": [
       "<div>\n",
       "<style scoped>\n",
       "    .dataframe tbody tr th:only-of-type {\n",
       "        vertical-align: middle;\n",
       "    }\n",
       "\n",
       "    .dataframe tbody tr th {\n",
       "        vertical-align: top;\n",
       "    }\n",
       "\n",
       "    .dataframe thead th {\n",
       "        text-align: right;\n",
       "    }\n",
       "</style>\n",
       "<table border=\"1\" class=\"dataframe\">\n",
       "  <thead>\n",
       "    <tr style=\"text-align: right;\">\n",
       "      <th></th>\n",
       "      <th>Rooms</th>\n",
       "      <th>Bathroom</th>\n",
       "      <th>Landsize</th>\n",
       "      <th>Lattitude</th>\n",
       "      <th>Longtitude</th>\n",
       "    </tr>\n",
       "  </thead>\n",
       "  <tbody>\n",
       "    <tr>\n",
       "      <td>count</td>\n",
       "      <td>6196.000000</td>\n",
       "      <td>6196.000000</td>\n",
       "      <td>6196.000000</td>\n",
       "      <td>6196.000000</td>\n",
       "      <td>6196.000000</td>\n",
       "    </tr>\n",
       "    <tr>\n",
       "      <td>mean</td>\n",
       "      <td>2.931407</td>\n",
       "      <td>1.576340</td>\n",
       "      <td>471.006940</td>\n",
       "      <td>-37.807904</td>\n",
       "      <td>144.990201</td>\n",
       "    </tr>\n",
       "    <tr>\n",
       "      <td>std</td>\n",
       "      <td>0.971079</td>\n",
       "      <td>0.711362</td>\n",
       "      <td>897.449881</td>\n",
       "      <td>0.075850</td>\n",
       "      <td>0.099165</td>\n",
       "    </tr>\n",
       "    <tr>\n",
       "      <td>min</td>\n",
       "      <td>1.000000</td>\n",
       "      <td>1.000000</td>\n",
       "      <td>0.000000</td>\n",
       "      <td>-38.164920</td>\n",
       "      <td>144.542370</td>\n",
       "    </tr>\n",
       "    <tr>\n",
       "      <td>25%</td>\n",
       "      <td>2.000000</td>\n",
       "      <td>1.000000</td>\n",
       "      <td>152.000000</td>\n",
       "      <td>-37.855438</td>\n",
       "      <td>144.926198</td>\n",
       "    </tr>\n",
       "    <tr>\n",
       "      <td>50%</td>\n",
       "      <td>3.000000</td>\n",
       "      <td>1.000000</td>\n",
       "      <td>373.000000</td>\n",
       "      <td>-37.802250</td>\n",
       "      <td>144.995800</td>\n",
       "    </tr>\n",
       "    <tr>\n",
       "      <td>75%</td>\n",
       "      <td>4.000000</td>\n",
       "      <td>2.000000</td>\n",
       "      <td>628.000000</td>\n",
       "      <td>-37.758200</td>\n",
       "      <td>145.052700</td>\n",
       "    </tr>\n",
       "    <tr>\n",
       "      <td>max</td>\n",
       "      <td>8.000000</td>\n",
       "      <td>8.000000</td>\n",
       "      <td>37000.000000</td>\n",
       "      <td>-37.457090</td>\n",
       "      <td>145.526350</td>\n",
       "    </tr>\n",
       "  </tbody>\n",
       "</table>\n",
       "</div>"
      ],
      "text/plain": [
       "             Rooms     Bathroom      Landsize    Lattitude   Longtitude\n",
       "count  6196.000000  6196.000000   6196.000000  6196.000000  6196.000000\n",
       "mean      2.931407     1.576340    471.006940   -37.807904   144.990201\n",
       "std       0.971079     0.711362    897.449881     0.075850     0.099165\n",
       "min       1.000000     1.000000      0.000000   -38.164920   144.542370\n",
       "25%       2.000000     1.000000    152.000000   -37.855438   144.926198\n",
       "50%       3.000000     1.000000    373.000000   -37.802250   144.995800\n",
       "75%       4.000000     2.000000    628.000000   -37.758200   145.052700\n",
       "max       8.000000     8.000000  37000.000000   -37.457090   145.526350"
      ]
     },
     "execution_count": 8,
     "metadata": {},
     "output_type": "execute_result"
    }
   ],
   "source": [
    "X.describe()"
   ]
  },
  {
   "cell_type": "markdown",
   "metadata": {},
   "source": [
    "#### Budowanie modelu:"
   ]
  },
  {
   "cell_type": "markdown",
   "metadata": {},
   "source": [
    "Do budowy modelu będziemy używać biblioteki \"scikit-learn\" (sklearn).\n",
    "\n",
    "Kolejne kroki budowy modelu:\n",
    "1. DEFINE - Określenie rodzaju modelu, którego chcemy użyć (np. drzewo decyzyjne)\n",
    "2. FIT - Trenowanie modelu na podstawie danych\n",
    "3. PREDICT - Przewidywanie wyników\n",
    "4. EVALUATE - Ocena wydajności modelu (model validation; walidacja modelu)"
   ]
  },
  {
   "cell_type": "markdown",
   "metadata": {},
   "source": [
    "##### Krok 1. \n",
    "##### DEFINE\n",
    "W tym przykładowym projekcie użyjemy algorytmu drzew decyzyjnych, który wytrenujemy na podstawie cech (features) oraz zmiennej przewidywanej. Jest to zatem przykład uczenia nadzorowanego."
   ]
  },
  {
   "cell_type": "code",
   "execution_count": 9,
   "metadata": {},
   "outputs": [],
   "source": [
    "# Import algorytmu drzew decyzyjnych z biblioteki sklearn:\n",
    "from sklearn.tree import DecisionTreeRegressor\n",
    "\n",
    "# Przypisanie algorytmu do zmiennej i określenie 'random_state':\n",
    "melbourne_model = DecisionTreeRegressor(random_state=1)"
   ]
  },
  {
   "cell_type": "markdown",
   "metadata": {},
   "source": [
    "Wiele modeli uczenia maszynowego pozwala określić losowość dla trenowania danych. Określenie jak wyżej parametru 'random_state' zapewnia powtarzalność wyników przy każdym uruchomieniu (dobra praktyka). Wartość 'random_state' może być w zasadzie dowolna, gdyż jakość modelu nie będzie od niej znacząco uzależniona (chodzi jedynie o to, aby przy każdym uruchomieniu skryptu otrzymywać jednakowe wyniki)."
   ]
  },
  {
   "cell_type": "markdown",
   "metadata": {},
   "source": [
    "##### Krok 2.\n",
    "##### FIT"
   ]
  },
  {
   "cell_type": "code",
   "execution_count": 10,
   "metadata": {},
   "outputs": [
    {
     "data": {
      "text/plain": [
       "DecisionTreeRegressor(criterion='mse', max_depth=None, max_features=None,\n",
       "                      max_leaf_nodes=None, min_impurity_decrease=0.0,\n",
       "                      min_impurity_split=None, min_samples_leaf=1,\n",
       "                      min_samples_split=2, min_weight_fraction_leaf=0.0,\n",
       "                      presort=False, random_state=1, splitter='best')"
      ]
     },
     "execution_count": 10,
     "metadata": {},
     "output_type": "execute_result"
    }
   ],
   "source": [
    "# Trenowanie modelu na podstawie cech X i znanych wartości zmiennej przewidywanej y:\n",
    "melbourne_model.fit(X, y)"
   ]
  },
  {
   "cell_type": "markdown",
   "metadata": {},
   "source": [
    "Mamy wytrenowany model gotowy do przewidywania!"
   ]
  },
  {
   "cell_type": "markdown",
   "metadata": {},
   "source": [
    "##### Krok 3.\n",
    "##### PREDICT\n",
    "W praktyce będziemy używać modeli do przewidywania zmiennej przewidywanej (np. ceny) dla nowych danych, jednak tutaj dokonamy przewidywania dla kilku pierwszych wierszy zbioru treningowego, aby pokazać jak to działa."
   ]
  },
  {
   "cell_type": "code",
   "execution_count": 11,
   "metadata": {},
   "outputs": [
    {
     "name": "stdout",
     "output_type": "stream",
     "text": [
      "Dokonujemy predykcji cen dla poniższych 5 pierwszych domów ze zbioru treningowego:\n",
      "   Rooms  Bathroom  Landsize  Lattitude  Longtitude\n",
      "1      2       1.0     156.0   -37.8079    144.9934\n",
      "2      3       2.0     134.0   -37.8093    144.9944\n",
      "4      4       1.0     120.0   -37.8072    144.9941\n",
      "6      3       2.0     245.0   -37.8024    144.9993\n",
      "7      2       1.0     256.0   -37.8060    144.9954\n",
      "PREDYKCJA:\n",
      "[1035000. 1465000. 1600000. 1876000. 1636000.]\n"
     ]
    }
   ],
   "source": [
    "print(\"Dokonujemy predykcji cen dla poniższych 5 pierwszych domów ze zbioru treningowego:\")\n",
    "print(X.head())\n",
    "print('PREDYKCJA:')\n",
    "print(melbourne_model.predict(X.head()))"
   ]
  },
  {
   "cell_type": "code",
   "execution_count": 12,
   "metadata": {},
   "outputs": [
    {
     "data": {
      "text/plain": [
       "1    1035000.0\n",
       "2    1465000.0\n",
       "4    1600000.0\n",
       "6    1876000.0\n",
       "7    1636000.0\n",
       "Name: Price, dtype: float64"
      ]
     },
     "execution_count": 12,
     "metadata": {},
     "output_type": "execute_result"
    }
   ],
   "source": [
    "# Poniżej rzeczywiste ceny (wartości zmiennej przewidywanej y) dla tych samych 5 domów\n",
    "y.head()"
   ]
  },
  {
   "cell_type": "markdown",
   "metadata": {},
   "source": [
    "## 4) Model Validation\n",
    "##### Krok 4.\n",
    "##### EVALUATE (model validation)\n",
    "Jest to ocena jakości modelu. Polega na sprawdzeniu dokładności (accuracy) z jaką model przewiduje wartości zmiennej przewidywanej (y).\n",
    "\n",
    "Wiele osób popełnia błąd podczas oceny dokładności, ponieważ dokonują oni predykcji na danych treningowych (X) i porównują wyniki z wartościami zmiennej przewidywanej tego samego zbioru treningowego (y) - identycznie, jak zrobiliśmy powyżej (otrzymane wyniki są takie same więc dokładność wynosi 100%, co w rzeczywistości jest głupotą).\n",
    "\n",
    "Istnieje wiele metod do określenia jakości modelu. Jedną z nich jest MAE (Mean Absolute Error, czyli \"średni błąd bezwzględny\") - obliczamy błąd dla każdego przypadku (wiersza tabeli: domu), który wynosi: \n",
    "\n",
    "error = |wartość rzeczywista - wartość przewidywana|\n",
    "\n",
    "Zatem, jeśli dom kosztuje 150 000 a nasz model przewidział cenę dla tego domu na poziomie 100 000, to błąd wynosi 50 000.\n",
    "\n",
    "Następnie obliczamy średnią dla błędów obliczonych dla wszystkich wierszy - TO JEST NASZA MIARA JAKOŚCI!"
   ]
  },
  {
   "cell_type": "code",
   "execution_count": 13,
   "metadata": {},
   "outputs": [
    {
     "data": {
      "text/plain": [
       "1115.7467183128902"
      ]
     },
     "execution_count": 13,
     "metadata": {},
     "output_type": "execute_result"
    }
   ],
   "source": [
    "# import MAE:\n",
    "from sklearn.metrics import mean_absolute_error\n",
    "\n",
    "# przewidywane ceny wszystkich domów\n",
    "predicted_home_prices = melbourne_model.predict(X)\n",
    "\n",
    "# MAE dla wartości (cen) rzeczywistych i przewidywanych\n",
    "mean_absolute_error(y, predicted_home_prices)"
   ]
  },
  {
   "cell_type": "markdown",
   "metadata": {},
   "source": [
    "WALIDACJA MODELU\n",
    "\n",
    "Powyższy wynik jest błędny, ponieważ użyliśmy tych samych danych zarówno do budowy (wytrenowania) modelu, jak i oceny jego jakości - stąd nawet jeśli jakość okaże się wysoka (czyli wartość błędu będzie stosunkowo niska (jak wyżej)) może okazać się, że dla zupełnie nowych danych będzie ona dużo wyższa. Wynika to z faktu, że podczas trenowania modelu na zbiorze treningowym znalazł on pewne wzorce, które podczas walidacji na tych samych danych są dalej w nich obecne - zatem jakość jest wysoka. Z kolei w przypadku zupełnie nowych danych wzorce te nie będą prawdopodobnie istnieć, co doprowadzi do znacznego spadku jakości modelu. Dlatego oceny jakości modelu należy dokonywać na danych, które nie były używane do jego trenowania! Najprostszą metodą jest tutaj wyodrębnienie części danych (zbiór walidacyjny), których nie przekażemy do trenowania modelu, a które posłużą nam później do oceny jego jakości (będą to zupełnie nowe, z punktu widzenia modelu, nieznane dane).\n"
   ]
  },
  {
   "cell_type": "code",
   "execution_count": 23,
   "metadata": {},
   "outputs": [],
   "source": [
    "# import metody do podziału danych na zbiór treningowy i walidacyjny:\n",
    "from sklearn.model_selection import train_test_split\n",
    "\n",
    "# podział danych (domyślnie treningowy: 75%, walidacyjny: 25%)\n",
    "train_X, val_X, train_y, val_y = train_test_split(X, y, random_state = 0)"
   ]
  },
  {
   "cell_type": "markdown",
   "metadata": {},
   "source": [
    "Podział danych opiera się na wartości 'random_state', która gwarantuje, że jest on identyczny za każdym razem, gdy uruchamiamy nasz skrypt.\n",
    "\n",
    "- train_X - zbiór cech (kolumn), których użyjemy do trenowania modelu\n",
    "- val_X - zbiór cech jw o wartościach, których nasz model nie zna i których użyjemy do testowania (walidacji) modelu\n",
    "- train_y - zbiór znanych wartości zmiennej przewidywanej, których użyjemy do trenowania modelu\n",
    "- val_y - zbiór znanych wartości zmiennej przewidywanej, których nasz model nie zna i których użyjemy do testowania modelu (będziemy je porównywać z wartościami, które nasz model przewidzi dla zbioru 'val_X' w celu oszacowania błędu przewidywania). "
   ]
  },
  {
   "cell_type": "code",
   "execution_count": 16,
   "metadata": {},
   "outputs": [
    {
     "name": "stdout",
     "output_type": "stream",
     "text": [
      "271598.0400258231\n"
     ]
    }
   ],
   "source": [
    "# ponownie definiujemy model:\n",
    "melbourne_model = DecisionTreeRegressor(random_state = 0)\n",
    "\n",
    "# Trenujemy model na cechach (X) treningowych i znanych wartościach zmiennej przewidywanej (y) przewidzianych do treningu\n",
    "melbourne_model.fit(train_X, train_y)\n",
    "\n",
    "# używamy wytrenowanego powyżej modelu do przewidzenia cen dla zbioru walidacyjnego (val_X)\n",
    "val_predictions = melbourne_model.predict(val_X)\n",
    "\n",
    "# wyświetlamy MAE, gdzie porównujemy wartości cen ze zbioru walidacyjnego (val_y) oraz wartości cen przewidywane przez \n",
    "# nasz wytrenowany model:\n",
    "print(mean_absolute_error(val_y, val_predictions))"
   ]
  },
  {
   "cell_type": "markdown",
   "metadata": {},
   "source": [
    "Wnioski:\n",
    "\n",
    "Gdy sprawdzaliśmy jakość modelu na tym samym zbiorze (ten sam zarówno do treningu, jak i walidacji), to błąd MAE wynosił około 1100 dolarów (niewiele). Z kolei teraz, gdy wyodrębniliśmy zbiór walidacyjny (zupełnie nowe dane z punktu widzenia modelu - model nigdy wcześniej ich nie widział więc nie wie czy są w nich jakieś wzorce) MAE wynosi ponad 270 000!\n",
    "\n",
    "Tak duża wartość błędu może wynikać z wielu rzeczy, np. z małej ilości danych treningowych lub złego doboru cech do budowy modelu."
   ]
  },
  {
   "cell_type": "markdown",
   "metadata": {},
   "source": [
    "## 5) Underfitting and overfitting"
   ]
  },
  {
   "cell_type": "markdown",
   "metadata": {},
   "source": [
    "W przypadku biblioteki 'sklear' algorytm (model) drzew decyzyjnych ma wiele właściwości. Jedną z najważniejszych jest możliwość ustawienia \"głębokości\" drzewa (ilości podziałów danych w drzewie, które będą miały miejsce zanim otrzymamy końcowy wynik (prediction). Przykładowo, pomiędzy korzeniem (wszystkie domy) a liśćmi drzewa mamy 10 poziomów, czyli przy założeniu, że zawsze dzielimy dane na 2 grupy, liczba końcowych liści wyniesie 2^10 = 1024).\n",
    "\n",
    "Schodząc na coraz niższy poziom drzewa, zbiór danych ulega podziałowi na coraz mniejsze części, stąd liście zawierają coraz mniej obserwacji (domów). Liście z bardzo małą ilością obserwacji będą zwracały predykcje, których wartości są bardzo zbliżone do rzeczywistych wyników (aktualnych cen domów). Niestety dla nowych danych wyniki będą niewiarygodne, ponieważ każda predykcja opierać się będzie na tylko kilku przypadkach (obserwacjach).\n",
    "\n",
    "Taka sytuacja nosi nazwę OVERFITTING'u (przetrenowania) - model działa niemalże perfekcyjnie na danych treningowych, ale na danych walidacyjnych (lub innych nowych) już nie. Z kolei jeśli drzewo będzie za płytkie (za mało poziomów), to model nie będzie osiągał zadowalających wyników zarówno na danych treningowych, jak i walidacyjnych - UNDERFITTING (niedotrenowanie). "
   ]
  },
  {
   "cell_type": "markdown",
   "metadata": {},
   "source": [
    "<img src=\"Images/tree_depth.jpg\">"
   ]
  },
  {
   "cell_type": "markdown",
   "metadata": {},
   "source": [
    "Zgodnie z powyższym wykresem musimy szukać takiej ilości poziomów (tree depth), dla której wartość MAE dla zbioru walidacyjnego jest możliwie najmniejsza."
   ]
  },
  {
   "cell_type": "code",
   "execution_count": 17,
   "metadata": {},
   "outputs": [
    {
     "name": "stdout",
     "output_type": "stream",
     "text": [
      "Max leaf nodes: 5 \t\t Mean Absolute Error: 385696\n",
      "Max leaf nodes: 50 \t\t Mean Absolute Error: 279794\n",
      "Max leaf nodes: 500 \t\t Mean Absolute Error: 261718\n",
      "Max leaf nodes: 5000 \t\t Mean Absolute Error: 271996\n"
     ]
    }
   ],
   "source": [
    "# Moduł 'sklearn' pozwala kontrolować ilość liści drzewa poprzez parametr 'max_leaf_nodes'\n",
    "\n",
    "# definiujemy funkcję zwracającą MAE w zależności od ilości liści:\n",
    "def get_mae(max_leaf_nodes, train_X, val_X, train_y, val_y):\n",
    "    model = DecisionTreeRegressor(max_leaf_nodes=max_leaf_nodes, random_state=0)\n",
    "    model.fit(train_X, train_y)\n",
    "    preds_val = model.predict(val_X)\n",
    "    mae = mean_absolute_error(val_y, preds_val)\n",
    "    return mae\n",
    "\n",
    "# iterujemy po przykładowych ilościach liści:\n",
    "for max_leaf_nodes in [5, 50, 500, 5000]:\n",
    "    my_mae = get_mae(max_leaf_nodes, train_X, val_X, train_y, val_y)\n",
    "    print(\"Max leaf nodes: %d \\t\\t Mean Absolute Error: %d\" %(max_leaf_nodes, my_mae))\n",
    "    \n",
    "# Alternatywny zapis powyższej pętli i znajdowania najmniejszej wartości:\n",
    "#scores = {leaf_size: get_mae(leaf_size, train_X, val_X, train_y, val_y) for leaf_size in [5, 50, 500, 5000]}\n",
    "#best_tree_size = min(scores, key=scores.get)"
   ]
  },
  {
   "cell_type": "markdown",
   "metadata": {},
   "source": [
    "Widać, że najmniejsza wartość MAE na zbiorze walidacyjnym jest osiągnięta dla liczby liści równej 500.\n",
    "\n",
    "Ostateczna wersja naszego modelu:"
   ]
  },
  {
   "cell_type": "code",
   "execution_count": 18,
   "metadata": {},
   "outputs": [],
   "source": [
    "final_model = DecisionTreeRegressor(max_leaf_nodes=500, random_state=0)"
   ]
  },
  {
   "cell_type": "markdown",
   "metadata": {},
   "source": [
    "PODSUMOWUJĄC:\n",
    "\n",
    "- Overfitting: znajdowanie przez model fałszywych wzorców w danych, które nie istnieją dla nowych danych. Prowadzi to do bardzo dobrej jakości prognoz dla danych treningowych, ale niedokładnych dla zbiorów walidacyjnych;\n",
    "- Underfitting: brak możliwości znalezienia jakichkolwiek sensownych wzorców w danych, co prowadzi do niedokładnych prognoz zarówno na zbiorach treningowych, jak i walidacyjnych; \n",
    "- Im bardziej podzielimy dane (więcej poziomów w drzewie -> więcej liści), tym bardziej \"oddalimy\" się od ryzyka niedotrenowania modelu ale z kolei \"zbliżymy\" się w stronę przetrenowania - w praktyce należy znaleźć kompromis pomiędzy przetrenowaniem i niedotrenowaniem naszego modelu (jak wyżej: 500)."
   ]
  },
  {
   "cell_type": "markdown",
   "metadata": {},
   "source": [
    "## 6) Random Forests\n",
    "\n",
    "W praktyce, trudno jest znaleźć najlepsze parametry drzewa decyzyjnego, tak aby dane nie były zarówno niedotrenowane, jak i przetrenowane oraz, aby model posiadał możliwie najlepszą jakość, dlatego pewnym rozwiązaniem tego problemu są LASY LOSOWE (Random Forests).\n",
    "\n",
    "Lasy losowe są przykładem tzw. \"metody zespołowej\" (ang. ensemble method), ponieważ łączą przewidywania pochodzące z kilku modeli, a dokładniej używają wiele drzew decyzyjnych i dokonują prognozy poprzez uśrednienie wyników uzyskanych z pojedynczych drzew. Dzięki temu uzyskują one dużo lepszą jakość niż pojedyncze drzewa decyzyjne nawet przy zastosowaniu domyślnych ustawień parametrów."
   ]
  },
  {
   "cell_type": "code",
   "execution_count": 19,
   "metadata": {},
   "outputs": [
    {
     "name": "stderr",
     "output_type": "stream",
     "text": [
      "C:\\Users\\Maciek\\Anaconda3\\lib\\site-packages\\sklearn\\ensemble\\forest.py:245: FutureWarning: The default value of n_estimators will change from 10 in version 0.20 to 100 in 0.22.\n",
      "  \"10 in version 0.20 to 100 in 0.22.\", FutureWarning)\n"
     ]
    },
    {
     "name": "stdout",
     "output_type": "stream",
     "text": [
      "215038.14009038088\n"
     ]
    }
   ],
   "source": [
    "from sklearn.ensemble import RandomForestRegressor\n",
    "from sklearn.metrics import mean_absolute_error\n",
    "\n",
    "forest_model = RandomForestRegressor(random_state=0)\n",
    "forest_model.fit(train_X, train_y)\n",
    "melb_preds = forest_model.predict(val_X)\n",
    "print(mean_absolute_error(val_y, melb_preds))"
   ]
  },
  {
   "cell_type": "markdown",
   "metadata": {},
   "source": [
    "WNIOSKI:\n",
    "Jak widać, nawet dla domyślnych parametrów modelu lasu losowego wynik MAE jest zdecydowanie lepszy (niższy) niż dla domyślnych parametrów drzewa decyzyjnego (choć oczywiście da się go poprawić poprzez korektę jego parametrów!)."
   ]
  }
 ],
 "metadata": {
  "kernelspec": {
   "display_name": "Python 3",
   "language": "python",
   "name": "python3"
  },
  "language_info": {
   "codemirror_mode": {
    "name": "ipython",
    "version": 3
   },
   "file_extension": ".py",
   "mimetype": "text/x-python",
   "name": "python",
   "nbconvert_exporter": "python",
   "pygments_lexer": "ipython3",
   "version": "3.7.4"
  }
 },
 "nbformat": 4,
 "nbformat_minor": 2
}
